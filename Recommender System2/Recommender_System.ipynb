{
  "cells": [
    {
      "cell_type": "markdown",
      "metadata": {
        "id": "view-in-github",
        "colab_type": "text"
      },
      "source": [
        "<a href=\"https://colab.research.google.com/github/ElijahLewisUWI/testrepo/blob/main/Recommender%20System2/Recommender_System.ipynb\" target=\"_parent\"><img src=\"https://colab.research.google.com/assets/colab-badge.svg\" alt=\"Open In Colab\"/></a>"
      ]
    },
    {
      "cell_type": "markdown",
      "source": [
        "# Recommender System"
      ],
      "metadata": {
        "id": "gEQRBtG58zx2"
      }
    },
    {
      "cell_type": "code",
      "execution_count": null,
      "metadata": {
        "id": "PiBlwT-Wk2kT"
      },
      "outputs": [],
      "source": [
        "from pyspark.sql import SparkSession\n",
        "\n",
        "spark = SparkSession.builder.appName(\"ALS Recommender\").getOrCreate()"
      ]
    },
    {
      "cell_type": "code",
      "execution_count": null,
      "metadata": {
        "id": "Z9HFlnMTlkk7"
      },
      "outputs": [],
      "source": [
        "from pyspark.ml.evaluation import RegressionEvaluator #Evaluation Metric\n",
        "from pyspark.ml.recommendation import ALS #Alternating least squares model for collaborative filtering\n",
        "from pyspark.sql.functions import count #aggregate function\n",
        "from pyspark.sql.functions import col #treat dataframe column as an object\n",
        "from pyspark.ml.feature import StringIndexer #Converts string columns to numbers\n",
        "from pyspark.sql.functions import min, max #Used to get the min and max of rating column\n",
        "import random #Used to get random users\n",
        "\n"
      ]
    },
    {
      "cell_type": "code",
      "execution_count": null,
      "metadata": {
        "colab": {
          "base_uri": "https://localhost:8080/"
        },
        "id": "VBZ2hZ9VlltE",
        "outputId": "54e0d544-5e98-4f5c-e68d-b9a84791e134"
      },
      "outputs": [
        {
          "output_type": "stream",
          "name": "stdout",
          "text": [
            "Mounted at /content/drive\n"
          ]
        }
      ],
      "source": [
        "from google.colab import drive\n",
        "drive.mount('/content/drive')"
      ]
    },
    {
      "cell_type": "code",
      "execution_count": null,
      "metadata": {
        "id": "fRj1bdCYlnHt"
      },
      "outputs": [],
      "source": [
        "df = spark.read.csv(\"/content/drive/My Drive/amazon_data_2023/cleaned_amazon_data.csv\", header=True, inferSchema=True) #input cleaned dataset\n"
      ]
    },
    {
      "cell_type": "code",
      "execution_count": null,
      "metadata": {
        "colab": {
          "base_uri": "https://localhost:8080/"
        },
        "id": "2ol2KvneloZF",
        "outputId": "ceb9e937-fa93-4870-c6fd-590de25ae6c6"
      },
      "outputs": [
        {
          "output_type": "execute_result",
          "data": {
            "text/plain": [
              "['rating',\n",
              " 'title_x',\n",
              " 'text',\n",
              " 'images_x',\n",
              " 'asin',\n",
              " 'parent_asin',\n",
              " 'user_id',\n",
              " 'timestamp',\n",
              " 'helpful_vote',\n",
              " 'verified_purchase',\n",
              " 'main_category',\n",
              " 'title_y',\n",
              " 'average_rating',\n",
              " 'rating_number',\n",
              " 'features',\n",
              " 'description',\n",
              " 'price',\n",
              " 'images_y',\n",
              " 'videos',\n",
              " 'store',\n",
              " 'categories',\n",
              " 'details',\n",
              " 'bought_together',\n",
              " 'subtitle',\n",
              " 'author',\n",
              " 'brand',\n",
              " 'review_length',\n",
              " 'year']"
            ]
          },
          "metadata": {},
          "execution_count": 5
        }
      ],
      "source": [
        "df.columns #Ensures all the necessary columns are present"
      ]
    },
    {
      "cell_type": "code",
      "execution_count": null,
      "metadata": {
        "colab": {
          "base_uri": "https://localhost:8080/"
        },
        "id": "dPVkylXfmMym",
        "outputId": "1da0967a-1fd3-4aed-8768-0c58caf47baf"
      },
      "outputs": [
        {
          "output_type": "stream",
          "name": "stdout",
          "text": [
            "Csv contains 476684 reviews\n"
          ]
        }
      ],
      "source": [
        "review_count = df.count()\n",
        "print(f\"Csv contains {review_count} reviews\")"
      ]
    },
    {
      "cell_type": "markdown",
      "source": [
        "# Data Setup\n",
        "Retaining user_id, asin and rating while dropping users with fewer than 5 total\n",
        "reviews"
      ],
      "metadata": {
        "id": "O16e_cgMJWj0"
      }
    },
    {
      "cell_type": "code",
      "execution_count": null,
      "metadata": {
        "id": "mCmgiUsimPwd"
      },
      "outputs": [],
      "source": [
        "user_counts = df.groupBy('user_id').count() #Creates a dataframe based on the unique users\n"
      ]
    },
    {
      "cell_type": "code",
      "execution_count": null,
      "metadata": {
        "id": "WzFsFO4Km_of"
      },
      "outputs": [],
      "source": [
        "users_to_keep = user_counts.filter(user_counts['count'] >= 5).select('user_id') #Filter out users with fewer than 5 interaction\n",
        "filtered_df = df.join(users_to_keep, on='user_id', how='inner')#Keeps rows with users that have at least 5 reviews"
      ]
    },
    {
      "cell_type": "code",
      "execution_count": null,
      "metadata": {
        "id": "oam-08M274N8"
      },
      "outputs": [],
      "source": [
        "#Cast rating to float\n",
        "filtered_df = filtered_df.withColumn(\"rating\", col(\"rating\").cast(\"float\"))"
      ]
    },
    {
      "cell_type": "code",
      "execution_count": null,
      "metadata": {
        "colab": {
          "base_uri": "https://localhost:8080/"
        },
        "id": "-MXJzAa6n83C",
        "outputId": "501a2909-bcc3-47b1-b8de-db6bf53f8edd"
      },
      "outputs": [
        {
          "output_type": "stream",
          "name": "stdout",
          "text": [
            "Amount of rows in the filtered dataframe is 38384\n"
          ]
        }
      ],
      "source": [
        "filtered_count = filtered_df.count()\n",
        "print(f\"Amount of rows in the filtered dataframe is {filtered_count}\")"
      ]
    },
    {
      "cell_type": "markdown",
      "source": [
        "The filtered dataset contains 38384 rows, which meets the minimum amount for the recommender system."
      ],
      "metadata": {
        "id": "hyzbMS6QPSp5"
      }
    },
    {
      "cell_type": "code",
      "execution_count": null,
      "metadata": {
        "colab": {
          "base_uri": "https://localhost:8080/"
        },
        "id": "N-UEQ4xV_ZUU",
        "outputId": "f69cbc13-a932-4293-8bbd-aac1b888796c"
      },
      "outputs": [
        {
          "output_type": "stream",
          "name": "stdout",
          "text": [
            "+-----------+-----------+\n",
            "|min(rating)|max(rating)|\n",
            "+-----------+-----------+\n",
            "|        1.0|        5.0|\n",
            "+-----------+-----------+\n",
            "\n"
          ]
        }
      ],
      "source": [
        "#Shows the min and max of the ratings\n",
        "filtered_df.select(min(\"rating\"), max(\"rating\")).show()"
      ]
    },
    {
      "cell_type": "markdown",
      "source": [
        "# Split\n",
        "Splitting dataset into an 80% traiing set so the model can have enough data to generalize, while also having enough to confirm model efficiency."
      ],
      "metadata": {
        "id": "I51b2HPUKYpK"
      }
    },
    {
      "cell_type": "markdown",
      "source": [
        "The below code deals with converting the string values of the user_id and asin to numerical indexes due to the Alternating Least Squares method requiring numerical values for processing"
      ],
      "metadata": {
        "id": "G979gquVGVjv"
      }
    },
    {
      "cell_type": "code",
      "execution_count": null,
      "metadata": {
        "id": "fXcmMpJF01Y1"
      },
      "outputs": [],
      "source": [
        "#Convert string columns to usable indexes\n",
        "user_indexer = StringIndexer(inputCol=\"user_id\", outputCol=\"user_index\",handleInvalid=\"skip\")\n",
        "item_indexer = StringIndexer(inputCol=\"asin\", outputCol=\"item_index\",handleInvalid=\"skip\")\n",
        "\n",
        "#Apply indexed data to filtered dataset\n",
        "indexed_data = user_indexer.fit(filtered_df).transform(filtered_df)\n",
        "indexed_data = item_indexer.fit(indexed_data).transform(indexed_data)\n",
        "#Randomly splits dataset into an 80% train set and 20% test set\n",
        "(training, test) = indexed_data.randomSplit([0.8, 0.2], seed=42)"
      ]
    },
    {
      "cell_type": "markdown",
      "source": [
        "#Alternating Least Squares\n",
        "The Spark ML library was chosen to implement alternating least squares due to its ability to handle large datasets, its high processing speed as well as its ease of implementation."
      ],
      "metadata": {
        "id": "RmZN94ssK-19"
      }
    },
    {
      "cell_type": "markdown",
      "source": [
        "The below code utilizes manual als tuning to find the best hyperparameters for the model. It evaluates multiple combinations of hyperparameters (rank, regularization parameter, and maximum iterations)"
      ],
      "metadata": {
        "id": "Xa12T67iHgZo"
      }
    },
    {
      "cell_type": "code",
      "execution_count": null,
      "metadata": {
        "id": "UGLyW1vHy9mL"
      },
      "outputs": [],
      "source": [
        "#Define the evaluator to assess model performance using RMSE\n",
        "evaluator = RegressionEvaluator(\n",
        "    metricName=\"rmse\",\n",
        "    labelCol=\"rating\",\n",
        "    predictionCol=\"prediction\"\n",
        ")"
      ]
    },
    {
      "cell_type": "code",
      "execution_count": null,
      "metadata": {
        "id": "FV-7DKZHxGC2"
      },
      "outputs": [],
      "source": [
        "def als_tuning(training, test, ranks, regParams, maxIters):\n",
        "    #Initialize variables to store best parameters and model\n",
        "    best_model = None\n",
        "    best_rmse = float(\"inf\") #Stores large value so any RMSE can be better than it\n",
        "    best_params = None\n",
        "    #Loops through the different combinations of parameters\n",
        "    for rank in ranks:\n",
        "        for reg in regParams:\n",
        "            for max_iter in maxIters:\n",
        "                als = ALS(\n",
        "                    userCol=\"user_index\",\n",
        "                    itemCol=\"item_index\",\n",
        "                    ratingCol=\"rating\",\n",
        "                    coldStartStrategy=\"drop\",\n",
        "                    nonnegative=True,\n",
        "                    implicitPrefs=False,\n",
        "                    rank=rank,\n",
        "                    maxIter=max_iter,\n",
        "                    regParam=reg\n",
        "                )\n",
        "\n",
        "                model = als.fit(training) #Fit the ALS model on the training data\n",
        "                predictions = model.transform(test) #Make predictions on the test data\n",
        "                rmse = evaluator.evaluate(predictions) #Evaluate model using RMSE\n",
        "\n",
        "                print(f\"Rank: {rank}, RegParam: {reg}, MaxIter: {max_iter} || RMSE: {rmse}\") #Print current combination of parameters and corresponding RMSE value\n",
        "                #Update the best model and parameters if rmse  is lower the the current best RMSE\n",
        "                if rmse < best_rmse:\n",
        "                    best_rmse = rmse\n",
        "                    best_model = model\n",
        "                    best_params = (rank, reg, max_iter)\n",
        "\n",
        "    print(f\"\\nBest RMSE: {best_rmse} with Rank: {best_params[0]}, RegParam: {best_params[1]}, MaxIter: {best_params[2]}\")\n",
        "    return best_model\n"
      ]
    },
    {
      "cell_type": "code",
      "execution_count": null,
      "metadata": {
        "id": "JbjjykQ8xI31"
      },
      "outputs": [],
      "source": [
        "#List of hyperparameters for tuning the ALS model\n",
        "ranks = [8, 10, 12]\n",
        "regParams = [0.05, 0.1, 0.15]\n",
        "maxIters = [10, 15]"
      ]
    },
    {
      "cell_type": "markdown",
      "source": [
        "# Evaluation\n",
        "Different combinations of hyperparamters were chosen to train and evaluate the model. The model with the lowest RMSE score will be chosen to make predictions."
      ],
      "metadata": {
        "id": "sQ6U8ZkBL84m"
      }
    },
    {
      "cell_type": "code",
      "execution_count": null,
      "metadata": {
        "colab": {
          "base_uri": "https://localhost:8080/"
        },
        "id": "ldwWn592xNeF",
        "outputId": "87e61fe2-cd0b-4e02-8026-5f864332a48a"
      },
      "outputs": [
        {
          "output_type": "stream",
          "name": "stdout",
          "text": [
            "Rank: 8, RegParam: 0.05, MaxIter: 10 || RMSE: 0.9626941988288471\n",
            "Rank: 8, RegParam: 0.05, MaxIter: 15 || RMSE: 0.9658879752223287\n",
            "Rank: 8, RegParam: 0.1, MaxIter: 10 || RMSE: 0.9940081117607227\n",
            "Rank: 8, RegParam: 0.1, MaxIter: 15 || RMSE: 1.0035237992723878\n",
            "Rank: 8, RegParam: 0.15, MaxIter: 10 || RMSE: 1.0330511399638678\n",
            "Rank: 8, RegParam: 0.15, MaxIter: 15 || RMSE: 1.0479245933433168\n",
            "Rank: 10, RegParam: 0.05, MaxIter: 10 || RMSE: 0.9640274068999336\n",
            "Rank: 10, RegParam: 0.05, MaxIter: 15 || RMSE: 0.9669068285722151\n",
            "Rank: 10, RegParam: 0.1, MaxIter: 10 || RMSE: 0.9943001757165887\n",
            "Rank: 10, RegParam: 0.1, MaxIter: 15 || RMSE: 1.0037625979709999\n",
            "Rank: 10, RegParam: 0.15, MaxIter: 10 || RMSE: 1.0331387718763871\n",
            "Rank: 10, RegParam: 0.15, MaxIter: 15 || RMSE: 1.049047060584209\n",
            "Rank: 12, RegParam: 0.05, MaxIter: 10 || RMSE: 0.9649358774209971\n",
            "Rank: 12, RegParam: 0.05, MaxIter: 15 || RMSE: 0.9663680178728038\n",
            "Rank: 12, RegParam: 0.1, MaxIter: 10 || RMSE: 0.9933270762978792\n",
            "Rank: 12, RegParam: 0.1, MaxIter: 15 || RMSE: 1.002121439104685\n",
            "Rank: 12, RegParam: 0.15, MaxIter: 10 || RMSE: 1.0313848532554362\n",
            "Rank: 12, RegParam: 0.15, MaxIter: 15 || RMSE: 1.0470621873027552\n",
            "\n",
            "Best RMSE: 0.9626941988288471 with Rank: 8, RegParam: 0.05, MaxIter: 10\n"
          ]
        }
      ],
      "source": [
        "best_model = als_tuning(training, test, ranks, regParams, maxIters)"
      ]
    },
    {
      "cell_type": "markdown",
      "source": [
        "From the fine tuning above, it can be seen that the best RMSE was  0.9631 with a Rank of 8, RegParam of 0.05 and MaxIter of 10.\n",
        "This relatively low RMSE suggests that the model has strong predictive performance and is well-suited for the task at hand. It also suggests that the patterns in the data are learnable and the variability of ratings is somewhat predictable. Though, there is room for improvement with better fine tuning, and a train/validation/test split.\n"
      ],
      "metadata": {
        "id": "4f6ae-blxilB"
      }
    },
    {
      "cell_type": "markdown",
      "source": [
        "# Demo"
      ],
      "metadata": {
        "id": "-_ENCjZdwabm"
      }
    },
    {
      "cell_type": "code",
      "source": [
        "\"\"\"Function to get top n recommendations for a specified number of users\"\"\"\n",
        "def top_recommendations(model,test, indexed_data, num_users=3, top_n=5):\n",
        "\n",
        "    unique_users = test.select(\"user_index\").distinct()\n",
        "    user_ids = [row[\"user_index\"] for row in unique_users.collect()]\n",
        "\n",
        "    random_users = random.sample(user_ids, num_users)\n",
        "    print(f\"Randomly selected user indices: {random_users}\")\n",
        "\n",
        "    #Recommend for each user\n",
        "    all_items = indexed_data.select(\"item_index\").distinct()\n",
        "\n",
        "    for user_id in random_users:\n",
        "        #Create pairs of users and items\n",
        "        user_df = all_items.withColumn(\"user_index\", col(\"item_index\") * 0 + user_id)\n",
        "\n",
        "        #Generate predictions\n",
        "        user_recommendations = model.transform(user_df).filter(col(\"prediction\").isNotNull())\n",
        "\n",
        "        #top recommendations\n",
        "        top_recommendations = user_recommendations.orderBy(col(\"prediction\").desc()).limit(top_n)\n",
        "\n",
        "        #Display results\n",
        "        print(f\"\\nTop {top_n} recommendations for user_index {user_id}:\")\n",
        "        top_recommendations.select(\"item_index\", \"prediction\").show()\n",
        "\n"
      ],
      "metadata": {
        "id": "W-qEnW1Nlqpl"
      },
      "execution_count": null,
      "outputs": []
    },
    {
      "cell_type": "code",
      "source": [
        "top_recommendations(best_model, test, indexed_data)"
      ],
      "metadata": {
        "colab": {
          "base_uri": "https://localhost:8080/"
        },
        "id": "TQ0y5ZqZpKFR",
        "outputId": "0bd5b31e-9308-4de9-b1b7-2b17dcbb906b"
      },
      "execution_count": null,
      "outputs": [
        {
          "output_type": "stream",
          "name": "stdout",
          "text": [
            "Randomly selected user indices: [1019.0, 2304.0, 4084.0]\n",
            "\n",
            "Top 5 recommendations for user_index 1019.0:\n",
            "+----------+----------+\n",
            "|item_index|prediction|\n",
            "+----------+----------+\n",
            "|   12121.0| 5.2859592|\n",
            "|   18416.0| 5.2859592|\n",
            "|   11024.0| 5.2577105|\n",
            "|   17536.0| 5.2577105|\n",
            "|   21716.0| 5.2370405|\n",
            "+----------+----------+\n",
            "\n",
            "\n",
            "Top 5 recommendations for user_index 2304.0:\n",
            "+----------+----------+\n",
            "|item_index|prediction|\n",
            "+----------+----------+\n",
            "|   28516.0| 5.7482314|\n",
            "|   16031.0| 5.7482314|\n",
            "|   24047.0| 5.7482314|\n",
            "|    7035.0| 5.7482314|\n",
            "|   11991.0|  5.636387|\n",
            "+----------+----------+\n",
            "\n",
            "\n",
            "Top 5 recommendations for user_index 4084.0:\n",
            "+----------+----------+\n",
            "|item_index|prediction|\n",
            "+----------+----------+\n",
            "|   15292.0|  5.999779|\n",
            "|   16534.0|  5.999779|\n",
            "|    8724.0|  5.999779|\n",
            "|    8729.0|  5.999779|\n",
            "|   24262.0|  5.995158|\n",
            "+----------+----------+\n",
            "\n"
          ]
        }
      ]
    },
    {
      "cell_type": "markdown",
      "source": [
        "The recommendations for each user show that the model is able to generate meaningful predictions based on the user’s past interactions. The predicted ratings are fairly high, suggesting that the model is efficient in identifying items that are relevant to the users."
      ],
      "metadata": {
        "id": "BxJvEA2bOLIh"
      }
    },
    {
      "cell_type": "code",
      "source": [],
      "metadata": {
        "id": "HxB7O0Q7N8pn"
      },
      "execution_count": null,
      "outputs": []
    }
  ],
  "metadata": {
    "colab": {
      "provenance": [],
      "authorship_tag": "ABX9TyM79mVWOhwnYKGIaSFSq87m",
      "include_colab_link": true
    },
    "kernelspec": {
      "display_name": "Python 3",
      "name": "python3"
    },
    "language_info": {
      "name": "python"
    }
  },
  "nbformat": 4,
  "nbformat_minor": 0
}